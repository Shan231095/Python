{
 "cells": [
  {
   "cell_type": "code",
   "execution_count": null,
   "id": "1ed2fef4-d6c7-4310-a1d8-2391fe1bb65b",
   "metadata": {},
   "outputs": [],
   "source": [
    "#print 0 to 20 using range"
   ]
  },
  {
   "cell_type": "code",
   "execution_count": 3,
   "id": "b55f6033-acab-431b-9de4-32f68e018513",
   "metadata": {},
   "outputs": [
    {
     "name": "stdout",
     "output_type": "stream",
     "text": [
      "0\n",
      "1\n",
      "2\n",
      "3\n",
      "4\n",
      "5\n",
      "6\n",
      "7\n",
      "8\n",
      "9\n",
      "10\n",
      "11\n",
      "12\n",
      "13\n",
      "14\n",
      "15\n",
      "16\n",
      "17\n",
      "18\n",
      "19\n"
     ]
    }
   ],
   "source": [
    "for num in range(0,20):\n",
    "    print(num)"
   ]
  },
  {
   "cell_type": "code",
   "execution_count": null,
   "id": "9345b796-cc12-4e08-94dc-feef8d1b258d",
   "metadata": {},
   "outputs": [],
   "source": [
    "#print range 10 to 20"
   ]
  },
  {
   "cell_type": "code",
   "execution_count": 9,
   "id": "1661e31c-6f75-4ea5-8039-fbf2a17cb833",
   "metadata": {},
   "outputs": [
    {
     "name": "stdout",
     "output_type": "stream",
     "text": [
      "10 11 12 13 14 15 16 17 18 19 "
     ]
    }
   ],
   "source": [
    "for num in range(10,20):\n",
    "    print(num, end=\" \")"
   ]
  },
  {
   "cell_type": "code",
   "execution_count": null,
   "id": "379bc60b-e88e-4ce8-b688-264a95f443c2",
   "metadata": {},
   "outputs": [],
   "source": [
    "# Print number of items in the list by using 'len'"
   ]
  },
  {
   "cell_type": "code",
   "execution_count": null,
   "id": "bb574efb-0412-4657-a49d-91083ee651d4",
   "metadata": {},
   "outputs": [],
   "source": [
    "lists=[10,20,14,55,43,87,76]\n",
    "\n"
   ]
  },
  {
   "cell_type": "code",
   "execution_count": 12,
   "id": "463663f0-ae53-4ffd-8fb7-8368f00bda39",
   "metadata": {},
   "outputs": [
    {
     "name": "stdout",
     "output_type": "stream",
     "text": [
      "-Your name-\n",
      "-Your age-\n",
      "-Your Profession-\n"
     ]
    }
   ],
   "source": [
    "print(\"-Your name-\")\n",
    "print(\"-Your age-\")\n",
    "print(\"-Your Profession-\")"
   ]
  },
  {
   "cell_type": "code",
   "execution_count": 16,
   "id": "ef654cfa-556c-4f41-a6d9-c915179fb844",
   "metadata": {},
   "outputs": [
    {
     "name": "stdin",
     "output_type": "stream",
     "text": [
      " Artificial Intelligence\n"
     ]
    },
    {
     "name": "stdout",
     "output_type": "stream",
     "text": [
      "A\n",
      "r\n",
      "t\n",
      "i\n",
      "f\n",
      "i\n",
      "c\n",
      "i\n",
      "a\n",
      "l\n",
      " \n",
      "I\n",
      "n\n",
      "t\n",
      "e\n",
      "l\n",
      "l\n",
      "i\n",
      "g\n",
      "e\n",
      "n\n",
      "c\n",
      "e\n"
     ]
    }
   ],
   "source": [
    "string=input()\n",
    "for letter in string:\n",
    "    print(letter)"
   ]
  },
  {
   "cell_type": "code",
   "execution_count": null,
   "id": "9bf0b388-3f3c-40ca-9983-8ed17e5c7830",
   "metadata": {},
   "outputs": [],
   "source": [
    "#print odd numbers"
   ]
  },
  {
   "cell_type": "code",
   "execution_count": 17,
   "id": "c1f3c5d1-ae6b-4a66-a26c-6d44a74d1086",
   "metadata": {},
   "outputs": [
    {
     "name": "stdout",
     "output_type": "stream",
     "text": [
      "[20, 10, 16, 19, 25, 1, 276, 188]\n",
      "19 is odd\n",
      "25 is odd\n",
      "1 is odd\n"
     ]
    }
   ],
   "source": [
    "lists=[20,10,16,19,25,1,276,188]\n",
    "print(lists)\n",
    "for num in lists:\n",
    "    if((num%2)==1):\n",
    "        print(num,\"is odd\")\n",
    "        "
   ]
  },
  {
   "cell_type": "code",
   "execution_count": null,
   "id": "571c2ed4-84dd-4e78-9449-6770bdeea507",
   "metadata": {},
   "outputs": [],
   "source": [
    "#print even numbers"
   ]
  },
  {
   "cell_type": "code",
   "execution_count": 18,
   "id": "e09774d7-b52b-4694-8da3-6a7d5c336f63",
   "metadata": {},
   "outputs": [
    {
     "name": "stdout",
     "output_type": "stream",
     "text": [
      "[20, 10, 16, 19, 25, 1, 276, 188]\n",
      "20 is even\n",
      "10 is even\n",
      "16 is even\n",
      "276 is even\n",
      "188 is even\n"
     ]
    }
   ],
   "source": [
    "lists=[20,10,16,19,25,1,276,188]\n",
    "print(lists)\n",
    "for num in lists:\n",
    "    if((num%2)==0):\n",
    "        print(num,\"is even\")"
   ]
  },
  {
   "cell_type": "code",
   "execution_count": null,
   "id": "d0125e5d-2504-4a5b-bc90-395154176de2",
   "metadata": {},
   "outputs": [],
   "source": [
    "# Print number of items in the list by using 'len'"
   ]
  },
  {
   "cell_type": "code",
   "execution_count": 24,
   "id": "3be55818-752e-485a-a1f8-077d83c56508",
   "metadata": {},
   "outputs": [
    {
     "name": "stdout",
     "output_type": "stream",
     "text": [
      "[10, 20, 14, 55, 43, 87, 76]\n",
      "Number of items in lists:\n",
      " 7\n"
     ]
    }
   ],
   "source": [
    "lists=[10, 20, 14, 55, 43, 87, 76]\n",
    "length=len(lists)\n",
    "print(lists)\n",
    "print(\"Number of items in lists:\\n\", length)"
   ]
  },
  {
   "cell_type": "code",
   "execution_count": null,
   "id": "b6fa908d-ea3c-4f84-87bf-b49ba5f72100",
   "metadata": {},
   "outputs": [],
   "source": [
    "# Refer this link : https://www.geeksforgeeks.org/python-tuples/\n",
    "\n",
    "# Print yhis mixered datatype using Tuples"
   ]
  },
  {
   "cell_type": "code",
   "execution_count": 28,
   "id": "64db52ac-d51b-4f81-b787-0b72f24bfc25",
   "metadata": {},
   "outputs": [
    {
     "name": "stdout",
     "output_type": "stream",
     "text": [
      "(1, 'Welcome', 2, 'Hope')\n"
     ]
    }
   ],
   "source": [
    "tuple = (1, 'Welcome', 2, 'Hope')\n",
    "print(tuple)"
   ]
  },
  {
   "cell_type": "code",
   "execution_count": null,
   "id": "61692f1b-f7ec-4f37-84e0-4479864273b1",
   "metadata": {},
   "outputs": [],
   "source": [
    "# Refer this link : https://www.geeksforgeeks.org/python-tuples/\n",
    "\n",
    "Tuple1 = (0, 1, 2, 3)"
   ]
  },
  {
   "cell_type": "code",
   "execution_count": 27,
   "id": "e89f97b8-baf3-4303-9eb8-7a6f187c75b5",
   "metadata": {},
   "outputs": [
    {
     "name": "stdout",
     "output_type": "stream",
     "text": [
      "((0, 1, 2, 3), ('Python', 'Hope'))\n"
     ]
    }
   ],
   "source": [
    "tuple1 = (0, 1, 2, 3)\n",
    "tuple2 = ('Python', 'Hope')\n",
    "tuple3 = (tuple1, tuple2)\n",
    "print(tuple3)"
   ]
  },
  {
   "cell_type": "code",
   "execution_count": null,
   "id": "b538963b-7a82-443a-a8fb-bcdda777bc07",
   "metadata": {},
   "outputs": [],
   "source": []
  }
 ],
 "metadata": {
  "kernelspec": {
   "display_name": "Python 3 (ipykernel)",
   "language": "python",
   "name": "python3"
  },
  "language_info": {
   "codemirror_mode": {
    "name": "ipython",
    "version": 3
   },
   "file_extension": ".py",
   "mimetype": "text/x-python",
   "name": "python",
   "nbconvert_exporter": "python",
   "pygments_lexer": "ipython3",
   "version": "3.12.7"
  }
 },
 "nbformat": 4,
 "nbformat_minor": 5
}
