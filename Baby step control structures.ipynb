{
 "cells": [
  {
   "cell_type": "code",
   "execution_count": 1,
   "id": "03247d36-0e76-4f43-84ca-0f6ca789ee7a",
   "metadata": {},
   "outputs": [
    {
     "name": "stdout",
     "output_type": "stream",
     "text": [
      "Welcome to Assignment-1\n"
     ]
    }
   ],
   "source": [
    "print(\"Welcome to Assignment-1\")"
   ]
  },
  {
   "cell_type": "code",
   "execution_count": 4,
   "id": "c36835f2-aab0-4fe6-b04e-a87eaf9abe22",
   "metadata": {},
   "outputs": [
    {
     "name": "stdin",
     "output_type": "stream",
     "text": [
      "Num1= 10\n",
      "Num2= 30\n"
     ]
    },
    {
     "name": "stdout",
     "output_type": "stream",
     "text": [
      "Add= 40\n"
     ]
    }
   ],
   "source": [
    "Num1=int(input(\"Num1=\"))\n",
    "Num2=int(input(\"Num2=\"))\n",
    "add=Num1+Num2\n",
    "print(\"Add=\",add)"
   ]
  },
  {
   "cell_type": "code",
   "execution_count": 5,
   "id": "a7fa5e1c-a211-46fc-9a4d-f29752fd2f86",
   "metadata": {},
   "outputs": [],
   "source": [
    "#Body mass index"
   ]
  },
  {
   "cell_type": "code",
   "execution_count": 13,
   "id": "77b22085-a283-470c-8d47-09a8d1ba344f",
   "metadata": {},
   "outputs": [
    {
     "name": "stdin",
     "output_type": "stream",
     "text": [
      "Enter the BMI index: 34\n"
     ]
    },
    {
     "name": "stdout",
     "output_type": "stream",
     "text": [
      "very Overweight\n"
     ]
    }
   ],
   "source": [
    "BMI=int(input(\"Enter the BMI index:\"))\n",
    "if(BMI<18.5):\n",
    "    print(\"Underweight\")\n",
    "elif(BMI<25):\n",
    "    print(\"Healthy weight\")\n",
    "elif(BMI<30):\n",
    "    print(\"Overweight\")\n",
    "elif(BMI<35):\n",
    "    print(\"very Overweight\")\n",
    "elif(BMI<40):\n",
    "    print(\"Class 2 Obesity\")\n",
    "else:\n",
    "    print(\"Severe Obesity\")"
   ]
  },
  {
   "cell_type": "code",
   "execution_count": null,
   "id": "98195985-e195-448d-90ac-8efedcbbbb07",
   "metadata": {},
   "outputs": [],
   "source": []
  }
 ],
 "metadata": {
  "kernelspec": {
   "display_name": "Python 3 (ipykernel)",
   "language": "python",
   "name": "python3"
  },
  "language_info": {
   "codemirror_mode": {
    "name": "ipython",
    "version": 3
   },
   "file_extension": ".py",
   "mimetype": "text/x-python",
   "name": "python",
   "nbconvert_exporter": "python",
   "pygments_lexer": "ipython3",
   "version": "3.12.7"
  }
 },
 "nbformat": 4,
 "nbformat_minor": 5
}
