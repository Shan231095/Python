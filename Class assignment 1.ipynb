{
 "cells": [
  {
   "cell_type": "code",
   "execution_count": null,
   "id": "2b402a42-64e5-45ff-a755-fd86658d66ec",
   "metadata": {},
   "outputs": [],
   "source": [
    "#Subfields in AI using class"
   ]
  },
  {
   "cell_type": "code",
   "execution_count": 2,
   "id": "9954525f-ef8b-4968-98a2-c612f3d45611",
   "metadata": {},
   "outputs": [],
   "source": [
    "class SubfieldsInAI():\n",
    "    def Subfields():\n",
    "        print(\"Sub-fields in AI are:\\nMachine Learning\\nNeural Networks\\nVision\\nRobotics\\nSpeech Processing\\nNatural Language Processing\")\n",
    "        SubfieldsInAI=\"Sub-fields in AI are:\\nMachine Learning\\nNeural Networks\\nVision\\nRobotics\\nSpeech Processing\\nNatural Language Processing\"\n",
    "        return SubfieldsInAI"
   ]
  },
  {
   "cell_type": "code",
   "execution_count": 3,
   "id": "25f10041-f503-4d07-961b-df9dd81b44e4",
   "metadata": {},
   "outputs": [
    {
     "name": "stdout",
     "output_type": "stream",
     "text": [
      "Sub-fields in AI are:\n",
      "Machine Learning\n",
      "Neural Networks\n",
      "Vision\n",
      "Robotics\n",
      "Speech Processing\n",
      "Natural Language Processing\n"
     ]
    },
    {
     "data": {
      "text/plain": [
       "'Sub-fields in AI are:\\nMachine Learning\\nNeural Networks\\nVision\\nRobotics\\nSpeech Processing\\nNatural Language Processing'"
      ]
     },
     "execution_count": 3,
     "metadata": {},
     "output_type": "execute_result"
    }
   ],
   "source": [
    "SubfieldsInAI.Subfields()"
   ]
  },
  {
   "cell_type": "code",
   "execution_count": null,
   "id": "7a2823c0-4ff9-4a3d-b49b-7465b242c03d",
   "metadata": {},
   "outputs": [],
   "source": [
    "#odd or even number using class"
   ]
  },
  {
   "cell_type": "code",
   "execution_count": 6,
   "id": "7014e51f-fc58-464f-a7ee-1be068f892fe",
   "metadata": {},
   "outputs": [],
   "source": [
    "class OddEven():\n",
    "    def OddEven():\n",
    "        num=int(input(\"Enter a Number:\"))\n",
    "        if((num%2)==0):\n",
    "            print(num,\"is Even number\")\n",
    "            OddEven=\"Even number\"\n",
    "        else:\n",
    "            print(num,\"is Odd number\")\n",
    "            OddEven=\"Odd number\"\n",
    "        return OddEven"
   ]
  },
  {
   "cell_type": "code",
   "execution_count": 7,
   "id": "9bcdae7c-6a19-4299-b6dc-d57fe2dbfd63",
   "metadata": {},
   "outputs": [
    {
     "name": "stdin",
     "output_type": "stream",
     "text": [
      "Enter a Number: 52452\n"
     ]
    },
    {
     "name": "stdout",
     "output_type": "stream",
     "text": [
      "52452 is Even number\n"
     ]
    },
    {
     "data": {
      "text/plain": [
       "'Even number'"
      ]
     },
     "execution_count": 7,
     "metadata": {},
     "output_type": "execute_result"
    }
   ],
   "source": [
    "OddEven.OddEven()"
   ]
  },
  {
   "cell_type": "code",
   "execution_count": null,
   "id": "847d7541-55e7-4385-b9c6-dca3d39806c5",
   "metadata": {},
   "outputs": [],
   "source": [
    "#Eligibility for mrg using class"
   ]
  },
  {
   "cell_type": "code",
   "execution_count": 8,
   "id": "f1e0fa5b-fa0b-436a-835a-e65f060590d9",
   "metadata": {},
   "outputs": [],
   "source": [
    "class Eligibilityformarriage():\n",
    "    def Eligible():\n",
    "        Gender=input(\"Enter the Gender:\")\n",
    "        Age=int(input(\"Enter the Age:\"))\n",
    "        if(Gender==\"Female\"):\n",
    "            if(Age>=18):\n",
    "                print(\"Eligible\")\n",
    "                EligibilityForMarriage=\"Eligible\"\n",
    "            else:\n",
    "                print(\"Not Eligible\")\n",
    "                EligibilityForMarriage=\"Not Eligible\"\n",
    "        elif(Gender==\"Male\"):\n",
    "            if(Age>=21):\n",
    "                print(\"Eligible\")\n",
    "                EligibilityForMarriage=\"Eligible\"\n",
    "            else:\n",
    "                print(\"Not Eligible\")\n",
    "                EligibilityForMarriage=\"Not Eligible\"\n",
    "        else:\n",
    "            print(\"Not Valid\")\n",
    "            EligibilityForMarriage=\"Not Valid\"\n",
    "        return EligibilityForMarriage\n"
   ]
  },
  {
   "cell_type": "code",
   "execution_count": 9,
   "id": "14ce8ca8-d1e5-44e9-b930-32b5f0b9b5f9",
   "metadata": {},
   "outputs": [
    {
     "name": "stdin",
     "output_type": "stream",
     "text": [
      "Enter the Gender: Male\n",
      "Enter the Age: 20\n"
     ]
    },
    {
     "name": "stdout",
     "output_type": "stream",
     "text": [
      "Not Eligible\n"
     ]
    },
    {
     "data": {
      "text/plain": [
       "'Not Eligible'"
      ]
     },
     "execution_count": 9,
     "metadata": {},
     "output_type": "execute_result"
    }
   ],
   "source": [
    "Eligibilityformarriage.Eligible()"
   ]
  },
  {
   "cell_type": "code",
   "execution_count": null,
   "id": "c3af87b5-84d7-4437-8bde-5854c4abd042",
   "metadata": {},
   "outputs": [],
   "source": [
    "#Calculate Percentage using class"
   ]
  },
  {
   "cell_type": "code",
   "execution_count": 10,
   "id": "b0396562-790d-4bd3-b0ea-74e7fe570bb0",
   "metadata": {},
   "outputs": [],
   "source": [
    "class Findpercent():\n",
    "    def percentage():\n",
    "        sub1=int(input(\"Subject1=\"))\n",
    "        sub2=int(input(\"Subject2=\"))\n",
    "        sub3=int(input(\"Subject3=\"))\n",
    "        sub4=int(input(\"Subject4=\"))\n",
    "        sub5=int(input(\"Subject5=\"))\n",
    "        Total=(sub1+sub2+sub3+sub4+sub5)\n",
    "        print(\"Total=\",Total)\n",
    "        Percentage=((Total/500)*100)\n",
    "        print(\"Percentage=\",Percentage)\n",
    "        FindPercent=\"Percentage\"\n",
    "        return FindPercent"
   ]
  },
  {
   "cell_type": "code",
   "execution_count": 11,
   "id": "fb03bab5-2ba5-4474-9097-74c3ff00efb5",
   "metadata": {},
   "outputs": [
    {
     "name": "stdin",
     "output_type": "stream",
     "text": [
      "Subject1= 98\n",
      "Subject2= 87\n",
      "Subject3= 95\n",
      "Subject4= 95\n",
      "Subject5= 93\n"
     ]
    },
    {
     "name": "stdout",
     "output_type": "stream",
     "text": [
      "Total= 468\n",
      "Percentage= 93.60000000000001\n"
     ]
    },
    {
     "data": {
      "text/plain": [
       "'Percentage'"
      ]
     },
     "execution_count": 11,
     "metadata": {},
     "output_type": "execute_result"
    }
   ],
   "source": [
    "Findpercent.percentage()"
   ]
  },
  {
   "cell_type": "code",
   "execution_count": null,
   "id": "94707b70-2f60-4bb5-8b72-aa3031c9acb9",
   "metadata": {},
   "outputs": [],
   "source": [
    "#area and perimeter using class "
   ]
  },
  {
   "cell_type": "code",
   "execution_count": 12,
   "id": "b7641583-72e3-4e03-a20b-7d15ccd02cd3",
   "metadata": {},
   "outputs": [],
   "source": [
    "class triangle():\n",
    "    def triangle():\n",
    "        height=int(input(\"Height:\"))\n",
    "        breadth=int(input(\"Breadth:\"))\n",
    "        Area=((height*breadth)/2)\n",
    "        print(\"Area Formula:(Height*Breadth)/2\") \n",
    "        triangle=\"Area Formula:(Height*Breadth)/2\"\n",
    "        print(\"Area of the Triangle:\",Area)\n",
    "        triangle=\"Area\"\n",
    "        height1=int(input(\"Height1:\"))\n",
    "        height2=int(input(\"Height2:\"))\n",
    "        breadth=int(input(\"Breadth:\"))\n",
    "        Perimeter=height1+height2+breadth\n",
    "        print(\"Perimeter Formula:Height1+Height2+Breadth\")\n",
    "        triangle=\"Perimeter Formula:Height1+Height2+Breadth\"\n",
    "        print(\"Perimeter of Traingle:\",Perimeter)\n",
    "        triangle=\"Perimeter\"\n",
    "        return triangle"
   ]
  },
  {
   "cell_type": "code",
   "execution_count": 13,
   "id": "99b43b5c-4532-4cb5-861b-ae76eb774848",
   "metadata": {},
   "outputs": [
    {
     "name": "stdin",
     "output_type": "stream",
     "text": [
      "Height: 32\n",
      "Breadth: 34\n"
     ]
    },
    {
     "name": "stdout",
     "output_type": "stream",
     "text": [
      "Area Formula:(Height*Breadth)/2\n",
      "Area of the Triangle: 544.0\n"
     ]
    },
    {
     "name": "stdin",
     "output_type": "stream",
     "text": [
      "Height1: 2\n",
      "Height2: 4\n",
      "Breadth: 4\n"
     ]
    },
    {
     "name": "stdout",
     "output_type": "stream",
     "text": [
      "Perimeter Formula:Height1+Height2+Breadth\n",
      "Perimeter of Traingle: 10\n"
     ]
    },
    {
     "data": {
      "text/plain": [
       "'Perimeter'"
      ]
     },
     "execution_count": 13,
     "metadata": {},
     "output_type": "execute_result"
    }
   ],
   "source": [
    "triangle.triangle()"
   ]
  },
  {
   "cell_type": "code",
   "execution_count": null,
   "id": "4e351e9d-bc6e-41b9-b312-77c21295fe3c",
   "metadata": {},
   "outputs": [],
   "source": []
  }
 ],
 "metadata": {
  "kernelspec": {
   "display_name": "Python 3 (ipykernel)",
   "language": "python",
   "name": "python3"
  },
  "language_info": {
   "codemirror_mode": {
    "name": "ipython",
    "version": 3
   },
   "file_extension": ".py",
   "mimetype": "text/x-python",
   "name": "python",
   "nbconvert_exporter": "python",
   "pygments_lexer": "ipython3",
   "version": "3.12.7"
  }
 },
 "nbformat": 4,
 "nbformat_minor": 5
}
