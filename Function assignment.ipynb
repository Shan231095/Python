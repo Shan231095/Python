{
 "cells": [
  {
   "cell_type": "code",
   "execution_count": null,
   "id": "afb6bbbf-ca1e-4fd2-8b3c-799747cdc90f",
   "metadata": {},
   "outputs": [],
   "source": [
    "#Number is odd or Even"
   ]
  },
  {
   "cell_type": "code",
   "execution_count": 1,
   "id": "7254d7ef-2fbd-4876-9314-d798baf16b37",
   "metadata": {},
   "outputs": [],
   "source": [
    "def OddEven():\n",
    "    if((num%2)==0):\n",
    "        print(num,\"is Even number\")\n",
    "        OddEven=\"Even number\"\n",
    "    else:\n",
    "        print(num,\"is Odd number\")\n",
    "        OddEven=\"Odd number\"\n",
    "    return OddEven"
   ]
  },
  {
   "cell_type": "code",
   "execution_count": 2,
   "id": "895c5d24-27fe-4f4b-9a0e-a8030c8f674f",
   "metadata": {},
   "outputs": [
    {
     "name": "stdin",
     "output_type": "stream",
     "text": [
      "Enter a Number: 52452\n"
     ]
    },
    {
     "name": "stdout",
     "output_type": "stream",
     "text": [
      "52452 is Even number\n"
     ]
    }
   ],
   "source": [
    "num=int(input(\"Enter a Number:\"))\n",
    "OddEven=OddEven()"
   ]
  },
  {
   "cell_type": "code",
   "execution_count": 64,
   "id": "a960ff4d-2e0c-4c74-9339-a66ad74d0ff3",
   "metadata": {},
   "outputs": [
    {
     "name": "stdout",
     "output_type": "stream",
     "text": [
      "Even number\n"
     ]
    }
   ],
   "source": [
    "print(OddEven)"
   ]
  },
  {
   "cell_type": "code",
   "execution_count": null,
   "id": "963bf8ed-e2cb-4291-aed8-6f9a1ca5e899",
   "metadata": {},
   "outputs": [],
   "source": [
    "#Eligibility for marriage"
   ]
  },
  {
   "cell_type": "code",
   "execution_count": null,
   "id": "33840c20-8b27-44ed-8138-01ea2a6beb5e",
   "metadata": {},
   "outputs": [],
   "source": []
  },
  {
   "cell_type": "code",
   "execution_count": 11,
   "id": "0640adaf-6fb1-4422-9cd5-202a86b90cb6",
   "metadata": {},
   "outputs": [],
   "source": [
    "def Eligible():\n",
    "    if(Gender==\"Female\"):\n",
    "        if(Age>=18):\n",
    "            print(\"Eligible\")\n",
    "            EligibilityForMarriage=\"Eligible\"\n",
    "        else:\n",
    "            print(\"Not Eligible\")\n",
    "            EligibilityForMarriage=\"Not Eligible\"\n",
    "    elif(Gender==\"Male\"):\n",
    "        if(Age>=21):\n",
    "            print(\"Eligible\")\n",
    "            EligibilityForMarriage=\"Eligible\"\n",
    "        else:\n",
    "            print(\"Not Eligible\")\n",
    "            EligibilityForMarriage=\"Not Eligible\"\n",
    "    else:\n",
    "        print(\"Not Valid\")\n",
    "        EligibilityForMarriage=\"Not Valid\"\n",
    "    return EligibilityForMarriage"
   ]
  },
  {
   "cell_type": "code",
   "execution_count": 12,
   "id": "5e9196d6-fdbe-4e25-b3ee-94089e027b56",
   "metadata": {},
   "outputs": [
    {
     "name": "stdin",
     "output_type": "stream",
     "text": [
      "Enter the Gender: Male\n",
      "Enter the Age: 20\n"
     ]
    },
    {
     "name": "stdout",
     "output_type": "stream",
     "text": [
      "Not Eligible\n"
     ]
    }
   ],
   "source": [
    "Gender=input(\"Enter the Gender:\")\n",
    "Age=int(input(\"Enter the Age:\"))\n",
    "EligibilityForMarriage=Eligible()"
   ]
  },
  {
   "cell_type": "code",
   "execution_count": null,
   "id": "71d02057-61d5-4c60-9f18-599acb17a236",
   "metadata": {},
   "outputs": [],
   "source": [
    "#percentage of Marks"
   ]
  },
  {
   "cell_type": "code",
   "execution_count": 7,
   "id": "c4a7dbbd-2959-4313-825e-f20b46c8eda5",
   "metadata": {},
   "outputs": [],
   "source": [
    "def percentage():\n",
    "    Total=(sub1+sub2+sub3+sub4+sub5)\n",
    "    print(\"Total=\",Total)\n",
    "    Percentage=((Total/500)*100)\n",
    "    print(\"Percentage=\",Percentage)\n",
    "    FindPercent=\"Percentage\"\n",
    "    return FindPercent"
   ]
  },
  {
   "cell_type": "code",
   "execution_count": 8,
   "id": "f5e923dc-3e07-477a-833b-cef3e9400d7c",
   "metadata": {},
   "outputs": [
    {
     "name": "stdin",
     "output_type": "stream",
     "text": [
      "Subject1= 98\n",
      "Subject2= 87\n",
      "Subject3= 95\n",
      "Subject4= 95\n",
      "Subject5= 93\n"
     ]
    },
    {
     "name": "stdout",
     "output_type": "stream",
     "text": [
      "Total= 468\n",
      "Percentage= 93.60000000000001\n"
     ]
    }
   ],
   "source": [
    "sub1=int(input(\"Subject1=\"))\n",
    "sub2=int(input(\"Subject2=\"))\n",
    "sub3=int(input(\"Subject3=\"))\n",
    "sub4=int(input(\"Subject4=\"))\n",
    "sub5=int(input(\"Subject5=\"))\n",
    "FindPercent=percentage()"
   ]
  },
  {
   "cell_type": "code",
   "execution_count": null,
   "id": "2f5fd35e-632c-4d06-9fa1-f40bb1b14f07",
   "metadata": {},
   "outputs": [],
   "source": [
    "#area and perimeter of triangle"
   ]
  },
  {
   "cell_type": "code",
   "execution_count": 13,
   "id": "b09463c3-3254-4d65-842d-eb42fcbf34ac",
   "metadata": {},
   "outputs": [],
   "source": [
    "def triangle():\n",
    "    height=int(input(\"Height:\"))\n",
    "    breadth=int(input(\"Breadth:\"))\n",
    "    Area=((height*breadth)/2)\n",
    "    print(\"Area Formula:(Height*Breadth)/2\") \n",
    "    triangle=\"Area Formula:(Height*Breadth)/2\"\n",
    "    print(\"Area of the Triangle:\",Area)\n",
    "    triangle=\"Area\"\n",
    "    height1=int(input(\"Height1:\"))\n",
    "    height2=int(input(\"Height2:\"))\n",
    "    breadth=int(input(\"Breadth:\"))\n",
    "    Perimeter=height1+height2+breadth\n",
    "    print(\"Perimeter Formula:Height1+Height2+Breadth\")\n",
    "    triangle=\"Perimeter Formula:Height1+Height2+Breadth\"\n",
    "    print(\"Perimeter of Traingle:\",Perimeter)\n",
    "    triangle=\"Perimeter\"\n",
    "    return triangle"
   ]
  },
  {
   "cell_type": "code",
   "execution_count": 14,
   "id": "603d2259-d5c3-43b8-b1b5-06d9efb7fce4",
   "metadata": {},
   "outputs": [
    {
     "name": "stdin",
     "output_type": "stream",
     "text": [
      "Height: 32\n",
      "Breadth: 34\n"
     ]
    },
    {
     "name": "stdout",
     "output_type": "stream",
     "text": [
      "Area Formula:(Height*Breadth)/2\n",
      "Area of the Triangle: 544.0\n"
     ]
    },
    {
     "name": "stdin",
     "output_type": "stream",
     "text": [
      "Height1: 2\n",
      "Height2: 4\n",
      "Breadth: 4\n"
     ]
    },
    {
     "name": "stdout",
     "output_type": "stream",
     "text": [
      "Perimeter Formula:Height1+Height2+Breadth\n",
      "Perimeter of Traingle: 10\n"
     ]
    }
   ],
   "source": [
    "triangle=triangle()"
   ]
  },
  {
   "cell_type": "code",
   "execution_count": null,
   "id": "5bb5ac80-df4b-41b9-8de8-95bfd5a43dd1",
   "metadata": {},
   "outputs": [],
   "source": [
    "#Sub fields of AI"
   ]
  },
  {
   "cell_type": "code",
   "execution_count": 16,
   "id": "6aeaa827-a9dc-41d0-b108-41ec05a59221",
   "metadata": {},
   "outputs": [],
   "source": [
    "def Subfields():\n",
    "    print(\"Sub-fields in AI are:\\nMachine Learning\\nNeural Networks\\nVision\\nRobotics\\nSpeech Processing\\nNatural Language Processing\")\n",
    "    SubfieldsInAI=\"Sub-fields in AI are:\\nMachine Learning\\nNeural Networks\\nVision\\nRobotics\\nSpeech Processing\\nNatural Language Processing\"\n",
    "    return SubfieldsInAI"
   ]
  },
  {
   "cell_type": "code",
   "execution_count": 17,
   "id": "73027f6c-2116-47c3-8761-b2efefabb7ad",
   "metadata": {},
   "outputs": [
    {
     "name": "stdout",
     "output_type": "stream",
     "text": [
      "Sub-fields in AI are:\n",
      "Machine Learning\n",
      "Neural Networks\n",
      "Vision\n",
      "Robotics\n",
      "Speech Processing\n",
      "Natural Language Processing\n"
     ]
    }
   ],
   "source": [
    "SubfieldsInAI=Subfields()"
   ]
  },
  {
   "cell_type": "code",
   "execution_count": null,
   "id": "f736c44e-8444-4f45-bffc-17ca56e029bd",
   "metadata": {},
   "outputs": [],
   "source": []
  }
 ],
 "metadata": {
  "kernelspec": {
   "display_name": "Python 3 (ipykernel)",
   "language": "python",
   "name": "python3"
  },
  "language_info": {
   "codemirror_mode": {
    "name": "ipython",
    "version": 3
   },
   "file_extension": ".py",
   "mimetype": "text/x-python",
   "name": "python",
   "nbconvert_exporter": "python",
   "pygments_lexer": "ipython3",
   "version": "3.12.7"
  }
 },
 "nbformat": 4,
 "nbformat_minor": 5
}
